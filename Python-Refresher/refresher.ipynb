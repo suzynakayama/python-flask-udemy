{
 "metadata": {
  "language_info": {
   "codemirror_mode": {
    "name": "ipython",
    "version": 3
   },
   "file_extension": ".py",
   "mimetype": "text/x-python",
   "name": "python",
   "nbconvert_exporter": "python",
   "pygments_lexer": "ipython3",
   "version": "3.7.5-final"
  },
  "orig_nbformat": 2,
  "kernelspec": {
   "name": "python37564bit6c9c1571cb344bc1a583dfd1d0398b5f",
   "display_name": "Python 3.7.5 64-bit"
  }
 },
 "nbformat": 4,
 "nbformat_minor": 2,
 "cells": [
  {
   "cell_type": "code",
   "execution_count": 29,
   "metadata": {
    "tags": []
   },
   "outputs": [
    {
     "output_type": "stream",
     "name": "stdout",
     "text": "oktest\nokok\n"
    }
   ],
   "source": [
    "a = 'ok'\n",
    "b = 'test'\n",
    "print(a+b)\n",
    "print(a*2)"
   ]
  },
  {
   "cell_type": "code",
   "execution_count": 30,
   "metadata": {
    "tags": []
   },
   "outputs": [
    {
     "output_type": "stream",
     "name": "stdout",
     "text": "Hello, Bob\n"
    }
   ],
   "source": [
    "name = 'Bob'\n",
    "print(f'Hello, {name}')"
   ]
  },
  {
   "cell_type": "code",
   "execution_count": 31,
   "metadata": {
    "tags": []
   },
   "outputs": [
    {
     "output_type": "stream",
     "name": "stdout",
     "text": "Hello, Bob\n"
    }
   ],
   "source": [
    "greeting = 'Hello, {}'\n",
    "with_name = greeting.format(name)\n",
    "print(with_name)"
   ]
  },
  {
   "cell_type": "code",
   "execution_count": 33,
   "metadata": {
    "tags": []
   },
   "outputs": [
    {
     "output_type": "stream",
     "name": "stdout",
     "text": "500 500.0\n500 square feet is 46.29629629629629 square meters.\n500 square feet is 46.30 square meters.\n"
    }
   ],
   "source": [
    "size = input('Enter the size of your house: ')\n",
    "integer = int(size)\n",
    "floating = float(size)\n",
    "print(integer, floating)\n",
    "square_meters = integer / 10.8\n",
    "print(f'{integer} square feet is {square_meters} square meters.')\n",
    "print(f'{integer} square feet is {square_meters:.2f} square meters.')"
   ]
  },
  {
   "cell_type": "code",
   "execution_count": 35,
   "metadata": {
    "tags": []
   },
   "outputs": [
    {
     "output_type": "stream",
     "name": "stdout",
     "text": "Your age, 35, is equal to 420 months or 1088640000 seconds.\n"
    }
   ],
   "source": [
    "user_age = input('Enter your age: ')\n",
    "years = int(user_age)\n",
    "months = years * 12\n",
    "days = months * 30\n",
    "hours = days * 24\n",
    "minutes = hours * 60\n",
    "seconds = minutes * 60\n",
    "print(f'Your age, {years}, is equal to {months} months or {seconds} seconds.')"
   ]
  },
  {
   "cell_type": "code",
   "execution_count": 45,
   "metadata": {
    "tags": []
   },
   "outputs": [
    {
     "output_type": "stream",
     "name": "stdout",
     "text": "{&#39;Anne&#39;}\nset()\n{&#39;Rolf&#39;, &#39;Maria&#39;, &#39;Bob&#39;, &#39;Anne&#39;, &#39;Jose&#39;}\n{&#39;Rolf&#39;, &#39;Bob&#39;, &#39;Lara&#39;}\n{&#39;Rolf&#39;, &#39;Bob&#39;}\n"
    }
   ],
   "source": [
    "friends = {'Bob', 'Anne', 'Rolf'}\n",
    "abroad = {'Bob', 'Rolf'}\n",
    "local_friends = friends.difference(abroad)\n",
    "print(local_friends)\n",
    "\n",
    "local_friends_opposite = abroad.difference(friends)\n",
    "print(local_friends_opposite)\n",
    "\n",
    "other_friends = {'Maria', 'Jose'}\n",
    "all_friends = friends.union(other_friends)\n",
    "print(all_friends)\n",
    "\n",
    "abroad.add('Lara')\n",
    "print(abroad)\n",
    "\n",
    "friends_study_science = {'Ellen', 'Renato', 'Bob', 'Rolf'}\n",
    "abroad_study_science = abroad.intersection(friends_study_science)\n",
    "print(abroad_study_science)"
   ]
  },
  {
   "cell_type": "code",
   "execution_count": 48,
   "metadata": {
    "tags": []
   },
   "outputs": [
    {
     "output_type": "stream",
     "name": "stdout",
     "text": "You are right!\n"
    }
   ],
   "source": [
    "colors = {'blue', 'red', 'white', 'black'}\n",
    "user_color = input('Enter a color that you think is in the game: ').lower()\n",
    "if user_color in colors:\n",
    "    print('You are right!')\n",
    "else:\n",
    "    print(\"Sorry, you're wrong\")"
   ]
  },
  {
   "cell_type": "code",
   "execution_count": 49,
   "metadata": {
    "tags": []
   },
   "outputs": [
    {
     "output_type": "stream",
     "name": "stdout",
     "text": "[&#39;Suzy&#39;, &#39;Sarah&#39;, &#39;Sayuri&#39;]\n[&#39;Suzy&#39;, &#39;Sarah&#39;, &#39;Sayuri&#39;]\n"
    }
   ],
   "source": [
    "friends = ['Suzy', 'Ellie', 'Sarah', 'Anna', 'Sayuri']\n",
    "friends_starts_s = []\n",
    "friends_starts_s_list_comprehension = []\n",
    "\n",
    "for friend in friends:\n",
    "    if friend.startswith('S'):\n",
    "        friends_starts_s.append(friend)\n",
    "print(friends_starts_s)\n",
    "\n",
    "# using list comprehension\n",
    "friends_starts_s_list_comprehension = [friend for friend in friends if friend.startswith('S')]\n",
    "print(friends_starts_s_list_comprehension)"
   ]
  },
  {
   "cell_type": "code",
   "execution_count": 51,
   "metadata": {
    "tags": []
   },
   "outputs": [
    {
     "output_type": "stream",
     "name": "stdout",
     "text": "Rolf has 96% of attendance\nBob has 80% of attendance\nAnne has 100% of attendance\n92.0\n"
    }
   ],
   "source": [
    "student_attendance = {'Rolf': 96, 'Bob': 80, 'Anne': 100}\n",
    "\n",
    "for student, attendance in student_attendance.items():\n",
    "    print(f'{student} has {attendance}% of attendance')\n",
    "\n",
    "attendance_values = student_attendance.values()\n",
    "print(sum(attendance_values) / len(attendance_values))"
   ]
  },
  {
   "cell_type": "code",
   "execution_count": 1,
   "metadata": {
    "tags": []
   },
   "outputs": [
    {
     "output_type": "stream",
     "name": "stdout",
     "text": "Jose artist\n"
    }
   ],
   "source": [
    "person = ('Jose', 30, 'artist')\n",
    "name, _, profession = person\n",
    "\n",
    "print(name, profession)"
   ]
  },
  {
   "cell_type": "code",
   "execution_count": 5,
   "metadata": {
    "tags": []
   },
   "outputs": [
    {
     "output_type": "stream",
     "name": "stdout",
     "text": "[&#39;Ella&#39;, &#39;Ellie&#39;, &#39;Ellen&#39;]\n"
    }
   ],
   "source": [
    "friends = ['Ella', 'Ellie']\n",
    "\n",
    "def add_friend():\n",
    "    friend_name = input('Enter your friend name: ')\n",
    "    f = friends + [friend_name]\n",
    "    print(f) \n",
    "\n",
    "add_friend()"
   ]
  },
  {
   "cell_type": "code",
   "execution_count": 8,
   "metadata": {
    "tags": []
   },
   "outputs": [
    {
     "output_type": "stream",
     "name": "stdout",
     "text": "Hello, Phil Filly.\nHello, Filly Phil.\nHello, Filly Phil.\nHello, Phil Doe.\n"
    }
   ],
   "source": [
    "def say_hello(name, surname='Doe'):\n",
    "    print(f'Hello, {name} {surname}.')\n",
    "\n",
    "say_hello(surname='Filly', name='Phil')                 \n",
    "say_hello('Filly', 'Phil')                              \n",
    "say_hello('Filly', surname='Phil')                           \n",
    "say_hello('Phil')           "
   ]
  },
  {
   "cell_type": "code",
   "execution_count": 11,
   "metadata": {
    "tags": []
   },
   "outputs": [
    {
     "output_type": "stream",
     "name": "stdout",
     "text": "12\n12\n[2, 6, 10, 14]\n[2, 6, 10, 14]\n[2, 6, 10, 14]\n"
    }
   ],
   "source": [
    "def add(x, y):\n",
    "    return x + y\n",
    "\n",
    "# transform into Lambda\n",
    "add = lambda x, y: x + y\n",
    "\n",
    "print(add(5, 7))\n",
    "\n",
    "# you can also call it right away, like an IIFE\n",
    "print((lambda x, y: x + y)(5, 7))\n",
    "\n",
    "\n",
    "# Another Example\n",
    "def double(x):\n",
    "    return x * 2\n",
    "\n",
    "sequence = [1, 3, 5, 7]\n",
    "doubled = [double(x) for x in sequence]\n",
    "doubled_inline = [(lambda x: x * 2)(y) for y in sequence]\n",
    "print(doubled)\n",
    "print(doubled_inline)\n",
    "\n",
    "# same thing - you can use map, it will go through each number in the sequence and apply double on it, it will then return a list with it\n",
    "# NOTE: it is a little bit slower than list comprehension\n",
    "doubled_same = list(map(double, sequence))\n",
    "\n",
    "print(doubled_same)"
   ]
  },
  {
   "cell_type": "code",
   "execution_count": 2,
   "metadata": {
    "tags": []
   },
   "outputs": [
    {
     "output_type": "stream",
     "name": "stdout",
     "text": "(1, 3, 5)\n8\n40\n40\n(1, 3, 6, 9)\n162\n"
    }
   ],
   "source": [
    "def multiply(*args):\n",
    "    print(args)\n",
    "    total = 1\n",
    "    for arg in args:\n",
    "        total = total * arg\n",
    "    return total\n",
    "\n",
    "multiply(1,3,5)\n",
    "\n",
    "def add(x,y):\n",
    "    return x + y\n",
    "\n",
    "nums = [3, 5]\n",
    "print(add(*nums))              # it will destructure the nums when calling add, so 3 will be x and 5 will be y\n",
    "\n",
    "# Another way\n",
    "nums = {'x': 15, 'y': 25}\n",
    "print(add(x=nums['x'], y=nums['y']))\n",
    "# instead of doing like that, we can use `**`\n",
    "print(add(**nums))\n",
    "\n",
    "# Going back to the mulpiply example and using with another function\n",
    "def apply(*args, operator):\n",
    "    if operator == '*':\n",
    "        return multiply(*args)                  # we need to add the `*` to destructure, otherwise we will send a tuple and the multiply function will create a tuple with the tuple\n",
    "    elif operator == '+':\n",
    "        return sum(args)\n",
    "    else:\n",
    "        return 'No valid operator provided to apply()'\n",
    "\n",
    "print(apply(1, 3, 6, 9, operator='*'))             # we need to use the keyword argument for operator, otherwise the `*args` from the function will get everything as the args and the operator will be missing."
   ]
  },
  {
   "cell_type": "code",
   "execution_count": 10,
   "metadata": {
    "tags": []
   },
   "outputs": [
    {
     "output_type": "stream",
     "name": "stdout",
     "text": "{&#39;name&#39;: &#39;Bob&#39;, &#39;age&#39;: 25}\nBob 25\n{&#39;name&#39;: &#39;Bob&#39;, &#39;age&#39;: 25}\n{&#39;name&#39;: &#39;Bob&#39;, &#39;age&#39;: 25}\nname: Bob\nage: 25\n(1, 3, 5)\n{&#39;name&#39;: &#39;Bob&#39;, &#39;age&#39;: 25}\n"
    }
   ],
   "source": [
    "def named(**kwargs):\n",
    "    print(kwargs)\n",
    "\n",
    "named(name='Bob', age=25)\n",
    "\n",
    "# Another option\n",
    "def named1(name, age):\n",
    "    print(name, age)\n",
    "\n",
    "details = {'name': 'Bob', 'age': 25}\n",
    "\n",
    "named1(**details)\n",
    "named(**details)\n",
    "\n",
    "def print_nicely(**kwargs):\n",
    "    named(**kwargs)\n",
    "    for arg, value in kwargs.items():\n",
    "        print(f'{arg}: {value}')\n",
    "\n",
    "print_nicely(name='Bob', age=25)\n",
    "\n",
    "def both(*args, **kwargs):\n",
    "    print(args)\n",
    "    print(kwargs)\n",
    "\n",
    "both(1, 3, 5, name='Bob', age=25)"
   ]
  },
  {
   "cell_type": "code",
   "execution_count": 4,
   "metadata": {
    "tags": []
   },
   "outputs": [
    {
     "output_type": "stream",
     "name": "stdout",
     "text": "Matt\n(40, 50, 60, 75, 60)\n83.0\n83.0\n"
    }
   ],
   "source": [
    "# create the Student class\n",
    "class Student:\n",
    "    # all objects has the self ('this'), but they can have other properties, like name or grades\n",
    "    def __init__(self, name, grades):\n",
    "        self.name = name\n",
    "        self.grades = grades\n",
    "    \n",
    "    def average(self):\n",
    "        return sum(self.grades) / len(self.grades)\n",
    "\n",
    "# create a new student\n",
    "student1 = Student('Matt', (90, 90, 80, 75, 80))\n",
    "student2 = Student('Rob', (40, 50, 60, 75, 60))\n",
    "print(student1.name)\n",
    "print(student2.grades)\n",
    "print(Student.average(student1))     #same as below\n",
    "print(student1.average())"
   ]
  },
  {
   "cell_type": "code",
   "execution_count": 10,
   "metadata": {
    "tags": []
   },
   "outputs": [
    {
     "output_type": "stream",
     "name": "stdout",
     "text": "&lt;__main__.Person object at 0x10a68e990&gt;\nI am Bob, and I have 35 years.\n&lt;Person(&#39;Bob&#39;, 35)&gt;\n"
    }
   ],
   "source": [
    "class Person:\n",
    "    def __init__(self, name, age):\n",
    "        self.name = name\n",
    "        self.age = age\n",
    "\n",
    "bob = Person('Bob', 35)\n",
    "print(bob)\n",
    "\n",
    "class Person_modified:\n",
    "    def __init__(self, name, age):\n",
    "        self.name = name\n",
    "        self.age = age\n",
    "    \n",
    "    # what to print when we print the string representation of the instance\n",
    "    def __str__(self):\n",
    "        return f'I am {self.name}, and I have {self.age} years.'\n",
    "    \n",
    "    # this method goal is to be unambiguous and it should return a string that allows us to recreate the object very easily\n",
    "    def __repr__(self):\n",
    "        return f\"<Person('{self.name}', {self.age})>\"\n",
    "\n",
    "bob_modified = Person_modified('Bob', 35)\n",
    "print(bob_modified)                 # I am Bob, and I have 35.\n",
    "# in order to print the __repr__ method, you can call it or comment the __str__ and just print the instance:\n",
    "print(bob_modified.__repr__())"
   ]
  },
  {
   "cell_type": "code",
   "execution_count": 12,
   "metadata": {
    "tags": []
   },
   "outputs": [
    {
     "output_type": "stream",
     "name": "stdout",
     "text": "Called instance_method of &lt;__main__.ClassTest object at 0x107e0f3d0&gt;\nCalled class_method of &lt;class &#39;__main__.ClassTest&#39;&gt;\nCalled static_method\n&lt;Book Harry Potter, hardcover, weighing 1600g&gt;\n&lt;Book Python, hardcover, weighing 700g&gt;\n"
    }
   ],
   "source": [
    "class ClassTest:\n",
    "    def instance_method(self):\n",
    "        print(f'Called instance_method of {self}')\n",
    "    \n",
    "    @classmethod\n",
    "    def class_method(cls):\n",
    "        print(f'Called class_method of {cls}')\n",
    "    \n",
    "    @staticmethod\n",
    "    def static_method():\n",
    "        print('Called static_method')\n",
    "\n",
    "test = ClassTest()\n",
    "# instance method because it is called on the instance - it will receive 'self', which is the instance and you can use it in the return\n",
    "test.instance_method()\n",
    "# class method because it is called on the class - it will receive 'cls', which is the class and you can use it in the return => Very used as factory\n",
    "ClassTest.class_method()\n",
    "# static method is called without 'passing' the object/instance to it, it is really just a function that you pasted inside the class, it doesn't have any info of the class or the instance\n",
    "ClassTest.static_method()\n",
    "\n",
    "# Another Example\n",
    "class Book:\n",
    "    TYPES = ('hardcover', 'paperback')\n",
    "\n",
    "    def __init__(self, name, book_type, weight):\n",
    "        self.name = name\n",
    "        self.book_type = book_type\n",
    "        self.weight = weight\n",
    "\n",
    "    def __repr__(self):\n",
    "        return f'<Book {self.name}, {self.book_type}, weighing {self.weight}g>'\n",
    "    \n",
    "    # factory => create a new instance within the class using the class ==> since cls is the class, you can use Book or cls, but it is best practices to use cls, also because of inheritance\n",
    "    @classmethod\n",
    "    def hardcover(cls, name, page_weight):\n",
    "        return cls(name, Book.TYPES[0], page_weight + 100)\n",
    "\n",
    "    @classmethod\n",
    "    def paperback(cls, name, page_weight):\n",
    "        return cls(name, Book.TYPES[1], page_weight + 100)\n",
    "\n",
    "book = Book.hardcover('Harry Potter', 1500)\n",
    "light = Book.hardcover('Python', 600)\n",
    "\n",
    "print(book)\n",
    "print(light)"
   ]
  },
  {
   "cell_type": "code",
   "execution_count": 16,
   "metadata": {
    "tags": []
   },
   "outputs": [
    {
     "output_type": "stream",
     "name": "stdout",
     "text": "Device &#39;Headphones&#39; (Bluetooth)\nPrinting 20 pages\nDevice &#39;Printer&#39; (USB) (480 pages remaining.)\nDisconnected.\nYour printer is not connected!\n"
    }
   ],
   "source": [
    "class Device:\n",
    "    def __init__(self, name, connected_by):\n",
    "        self.name = name\n",
    "        self.connected_by = connected_by\n",
    "        self.connected = True\n",
    "    \n",
    "    def __str__(self):\n",
    "        # the '!r' calls the repr method on self.name, so it adds the quotes automatically\n",
    "        return f'Device {self.name!r} ({self.connected_by})'\n",
    "    \n",
    "    def disconnect(self):\n",
    "        self.connected = False\n",
    "        print('Disconnected.')\n",
    "\n",
    "# create a Printer class who inherits from Device, so you have access to all the methods from the Device class and can also add new methods specific to the Printer class\n",
    "class Printer(Device):\n",
    "    def __init__(self, name, connected_by, capacity):\n",
    "        # get the parent class with super() and then call the __init__ method of it passing the variables => this way you don't have to copy everything again\n",
    "        super().__init__(name, connected_by)\n",
    "        self.capacity = capacity\n",
    "        self.remaining_pages = capacity\n",
    "\n",
    "    def __str__(self):\n",
    "        return f'{super().__str__()} ({self.remaining_pages} pages remaining.)'\n",
    "    \n",
    "    def print(self, pages):\n",
    "        if not self.connected:\n",
    "            print('Your printer is not connected!')\n",
    "            return\n",
    "        print(f'Printing {pages} pages')\n",
    "        self.remaining_pages -= pages\n",
    "\n",
    "headphones = Device('Headphones', 'Bluetooth')\n",
    "print(headphones)\n",
    "\n",
    "printer = Printer('Printer', 'USB', 500)\n",
    "printer.print(20)\n",
    "print(printer)\n",
    "\n",
    "printer.disconnect()\n",
    "printer.print(30)"
   ]
  },
  {
   "cell_type": "code",
   "execution_count": 20,
   "metadata": {
    "tags": []
   },
   "outputs": [
    {
     "output_type": "stream",
     "name": "stdout",
     "text": "Book Harry Potter\nBookshelf with 2 books.\n"
    }
   ],
   "source": [
    "class Bookshelf:\n",
    "    def __init__(self, quantity):\n",
    "        self.quantity = quantity\n",
    "    \n",
    "    def __str__(self):\n",
    "        # python ternary operator: 'true' if 'condition' else 'false'\n",
    "        end = 's.' if self.quantity > 1 else '.'\n",
    "        return f'Bookshelf with {self.quantity} book{end}'\n",
    "\n",
    "shelf = Bookshelf(300)\n",
    "\n",
    "# with inheritance ==> not the best way, you are saying that books are also bookshelves, which is not technically true. Also, you are completely overriding the __str__ method from Bookshelf and you are not using the Bookshelf anywhere.\n",
    "class Book_inheritance(Bookshelf):\n",
    "    def __init__(self, name, quantity):\n",
    "        super().__init__(quantity)\n",
    "        self.name = name\n",
    "    \n",
    "    def __str__(self):\n",
    "        return f'Book {self.name}'\n",
    "\n",
    "book = Book_inheritance('Harry Potter', 120)\n",
    "print(book)\n",
    "\n",
    "# with composition ==> better to use in this case, since with this you mean: a bookshelf has many books. But a book is not a bookshelf.\n",
    "class Bookshelf_composition:\n",
    "    def __init__(self, *books):\n",
    "        self.books = books\n",
    "    \n",
    "    def __str__(self):\n",
    "        # python ternary operator: 'true' if 'condition' else 'false'\n",
    "        end = 's.' if len(self.books) > 1 else '.'\n",
    "        return f'Bookshelf with {len(self.books)} book{end}'\n",
    "\n",
    "class Book_composition:\n",
    "    def __init__(self, name):\n",
    "        self.name = name\n",
    "    \n",
    "    def __str__(self):\n",
    "        return f'Book {self.name}'\n",
    "\n",
    "book = Book_composition('Harry Potter')\n",
    "book1 = Book_composition('Harry Potter II')\n",
    "shelf1 = Bookshelf_composition(book, book1)\n",
    "print(shelf1)"
   ]
  },
  {
   "cell_type": "code",
   "execution_count": 23,
   "metadata": {},
   "outputs": [
    {
     "output_type": "execute_result",
     "data": {
      "text/plain": "2.0"
     },
     "metadata": {},
     "execution_count": 23
    }
   ],
   "source": [
    "from typing import List\n",
    "\n",
    "def list_avg(sequence: List) -> float:\n",
    "    return sum(sequence) / len(sequence)\n",
    "\n",
    "# list_avg(123)\n",
    "list_avg([1,2,3])"
   ]
  },
  {
   "cell_type": "code",
   "execution_count": null,
   "metadata": {},
   "outputs": [],
   "source": []
  }
 ]
}